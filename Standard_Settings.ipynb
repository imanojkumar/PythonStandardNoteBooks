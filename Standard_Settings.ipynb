{
  "nbformat": 4,
  "nbformat_minor": 0,
  "metadata": {
    "colab": {
      "name": "Standard Settings.ipynb",
      "provenance": [],
      "collapsed_sections": []
    },
    "kernelspec": {
      "name": "python3",
      "display_name": "Python 3"
    },
    "language_info": {
      "name": "python"
    }
  },
  "cells": [
    {
      "cell_type": "markdown",
      "metadata": {
        "id": "AUjkAuon4irI"
      },
      "source": [
        "# **Standard Settings**"
      ]
    },
    {
      "cell_type": "code",
      "metadata": {
        "id": "fn4bHXKW4h8S"
      },
      "source": [
        "# Supress Warnings\n",
        "import warnings\n",
        "warnings.filterwarnings('ignore')\n",
        "\n",
        "# import packages\n",
        "import numpy as np, pandas as pd, matplotlib.pyplot as plt, seaborn as sns,\n",
        "\n",
        "# plot on the notbook\n",
        "%matplotlib inline\n",
        "\n",
        "# Auto reloads notebook when changes are made\n",
        "%reload_ext autoreload\n",
        "%autoreload 2\n",
        "\n",
        "# format settings\n",
        "pd.options.display.float_format = \"{:,.2f}\".format\n",
        "pd.set_option('display.max_columns', None)  \n",
        "pd.set_option('display.expand_frame_repr', False)\n",
        "pd.set_option('max_colwidth', -1)\n",
        "pd.set_option(\"display.precision\", 2)"
      ],
      "execution_count": null,
      "outputs": []
    }
  ]
}