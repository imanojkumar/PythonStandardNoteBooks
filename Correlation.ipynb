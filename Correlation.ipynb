{
  "nbformat": 4,
  "nbformat_minor": 0,
  "metadata": {
    "colab": {
      "name": "Correlation.ipynb",
      "provenance": [],
      "collapsed_sections": []
    },
    "kernelspec": {
      "name": "python3",
      "display_name": "Python 3"
    },
    "language_info": {
      "name": "python"
    }
  },
  "cells": [
    {
      "cell_type": "markdown",
      "metadata": {
        "id": "hU5kw0zJVbK4"
      },
      "source": [
        "# **Correlation**"
      ]
    },
    {
      "cell_type": "code",
      "metadata": {
        "id": "A9mvYeVbzcKX"
      },
      "source": [
        "# the numeric variables\n",
        "num_vars = ['temp', 'hum', 'windspeed', 'WoE','cnt']\n",
        "\n",
        "# Let's check the correlation coefficients to see which variables are highly correlated\n",
        "plt.figure(figsize = (16, 10))\n",
        "sns.heatmap(df_train[num_vars].corr(), annot = True, cmap=\"YlGnBu\")\n",
        "plt.show()"
      ],
      "execution_count": null,
      "outputs": []
    }
  ]
}